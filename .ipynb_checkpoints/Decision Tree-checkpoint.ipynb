{
 "cells": [
  {
   "cell_type": "markdown",
   "id": "4bbce83e-592c-4504-b7ee-78171f707d7b",
   "metadata": {},
   "source": [
    "# Decision Tree"
   ]
  },
  {
   "cell_type": "markdown",
   "id": "9eeeda7e-64f1-4b98-8e76-d9388c98c0cd",
   "metadata": {},
   "source": [
    "## Max Depth Tuning Function"
   ]
  },
  {
   "cell_type": "code",
   "execution_count": 12,
   "id": "375e1b1b-328a-4122-aa06-2df46c476f23",
   "metadata": {},
   "outputs": [],
   "source": [
    "from sklearn.model_selection import GridSearchCV\n",
    "from sklearn.tree import DecisionTreeRegressor\n",
    "\n",
    "def tune_max_depth(X_train, y_train, cv=5):\n",
    "    param_grid = {'max_depth': list(range(3, 51))}\n",
    "    grid = GridSearchCV(DecisionTreeRegressor(random_state=42), param_grid, cv=cv, scoring='neg_mean_squared_error', n_jobs=-1)\n",
    "    grid.fit(X_train, y_train)\n",
    "    print(\"Best max_depth:\", grid.best_params_['max_depth'])\n",
    "    return grid.best_params_['max_depth']"
   ]
  },
  {
   "cell_type": "markdown",
   "id": "7cca9c28-e930-4017-b1c3-a413071077d8",
   "metadata": {},
   "source": [
    "## Min Samples Split Tuning Function"
   ]
  },
  {
   "cell_type": "code",
   "execution_count": 14,
   "id": "cdfa54f0-5883-4f58-9a6a-b610ff9ded69",
   "metadata": {},
   "outputs": [],
   "source": [
    "def tune_min_samples_split(X_train, y_train, max_depth, cv=5):\n",
    "    param_grid = {'min_samples_split': list(range(2, 21))}\n",
    "    grid = GridSearchCV(\n",
    "        DecisionTreeRegressor(max_depth=max_depth, random_state=42),\n",
    "        param_grid,\n",
    "        cv=cv,\n",
    "        scoring='neg_mean_squared_error',\n",
    "        n_jobs=-1\n",
    "    )\n",
    "    grid.fit(X_train, y_train)\n",
    "    print(\"Best min_samples_split:\", grid.best_params_['min_samples_split'])\n",
    "    return grid.best_params_['min_samples_split']"
   ]
  },
  {
   "cell_type": "markdown",
   "id": "3110815a-ac5a-4741-80d7-d12d803703ea",
   "metadata": {},
   "source": [
    "## Min Samples Leaf Tuning Function"
   ]
  },
  {
   "cell_type": "code",
   "execution_count": 15,
   "id": "117683a9-9a37-433d-b382-2e07ff1695fb",
   "metadata": {},
   "outputs": [],
   "source": [
    "def tune_min_samples_leaf(X_train, y_train, max_depth, min_samples_split, cv=5):\n",
    "    param_grid = {'min_samples_leaf': list(range(1, 11))}\n",
    "    grid = GridSearchCV(\n",
    "        DecisionTreeRegressor(max_depth=max_depth, min_samples_split=min_samples_split, random_state=42),\n",
    "        param_grid,\n",
    "        cv=cv,\n",
    "        scoring='neg_mean_squared_error',\n",
    "        n_jobs=-1\n",
    "    )\n",
    "    grid.fit(X_train, y_train)\n",
    "    print(\"Best min_samples_leaf:\", grid.best_params_['min_samples_leaf'])\n",
    "    return grid.best_params_['min_samples_leaf']"
   ]
  },
  {
   "cell_type": "markdown",
   "id": "d51e9705-5f5e-44cb-8040-255175f37198",
   "metadata": {},
   "source": [
    "## Decision Tree Function"
   ]
  },
  {
   "cell_type": "code",
   "execution_count": 38,
   "id": "18b47f6f-1ee5-4b12-81de-db32c3c1cc4c",
   "metadata": {},
   "outputs": [],
   "source": [
    "from sklearn.tree import DecisionTreeRegressor\n",
    "from sklearn.metrics import mean_squared_error\n",
    "import numpy as np\n",
    "\n",
    "def evaluate_fixed_decision_tree(X_train, X_test, y_train, y_test,\n",
    "                                 max_depth, min_samples_split, min_samples_leaf, random_state=42):\n",
    "    \n",
    "    # Train the model with fixed hyperparameters\n",
    "    model = DecisionTreeRegressor(\n",
    "        max_depth=max_depth,\n",
    "        min_samples_split=min_samples_split,\n",
    "        min_samples_leaf=min_samples_leaf,\n",
    "        random_state=random_state\n",
    "    )\n",
    "    model.fit(X_train, y_train)\n",
    "\n",
    "    # Predict (in log scale)\n",
    "    y_train_pred_log = model.predict(X_train)\n",
    "    y_test_pred_log = model.predict(X_test)\n",
    "\n",
    "    # Exponentiate to get back to original scale\n",
    "    y_train_true = np.exp(y_train)\n",
    "    y_test_true = np.exp(y_test)\n",
    "    y_train_pred = np.exp(y_train_pred_log)\n",
    "    y_test_pred = np.exp(y_test_pred_log)\n",
    "    \n",
    "    # Compute MSEs and ratio\n",
    "    mse_train = mean_squared_error(y_train_true, y_train_pred)\n",
    "    mse_test = mean_squared_error(y_test_true, y_test_pred)\n",
    "    overfit_ratio = mse_test / mse_train\n",
    "\n",
    "    # Print results\n",
    "    print(f\"Train MSE: {mse_train:.6f}\")\n",
    "    print(f\"Test MSE: {mse_test:.6f}\")\n",
    "    print(f\"Test/Train MSE ratio: {overfit_ratio:.2f}\")"
   ]
  },
  {
   "cell_type": "markdown",
   "id": "df2abe19-e7c8-4f2b-92a4-c0befc4a9843",
   "metadata": {},
   "source": [
    "## Randomnized Gradient Boosting Function"
   ]
  },
  {
   "cell_type": "code",
   "execution_count": 42,
   "id": "11a35142-760d-45fa-b8f1-f65e69a22b0a",
   "metadata": {},
   "outputs": [],
   "source": [
    "from sklearn.ensemble import GradientBoostingRegressor\n",
    "from sklearn.model_selection import RandomizedSearchCV\n",
    "from scipy.stats import randint, uniform\n",
    "from sklearn.metrics import mean_squared_error\n",
    "import numpy as np\n",
    "\n",
    "def gradient_boosting_tuning(X_train, X_test, y_train, y_test, n_iter=50, cv=5, random_state=42):\n",
    "    # Define hyperparameter search space\n",
    "    param_dist = {\n",
    "        'n_estimators': randint(50, 300),\n",
    "        'learning_rate': uniform(0.01, 0.3),\n",
    "        'max_depth': randint(2, 10),\n",
    "        'min_samples_split': randint(2, 10),\n",
    "        'min_samples_leaf': randint(1, 10),\n",
    "    }\n",
    "\n",
    "    # Set up randomized search\n",
    "    search = RandomizedSearchCV(\n",
    "        GradientBoostingRegressor(random_state=random_state),\n",
    "        param_distributions=param_dist,\n",
    "        n_iter=n_iter,\n",
    "        cv=cv,\n",
    "        scoring='neg_mean_squared_error',\n",
    "        random_state=random_state,\n",
    "        n_jobs=-1\n",
    "    )\n",
    "\n",
    "    # Fit the model\n",
    "    search.fit(X_train, y_train)\n",
    "\n",
    "    # Best model\n",
    "    best_model = search.best_estimator_\n",
    "\n",
    "    # Predict\n",
    "    y_train_pred = best_model.predict(X_train)\n",
    "    y_test_pred = best_model.predict(X_test)\n",
    "\n",
    "    # Exponentiate predictions and true values to return to original scale\n",
    "    y_train_exp = np.exp(y_train)\n",
    "    y_test_exp = np.exp(y_test)\n",
    "    y_train_pred_exp = np.exp(y_train_pred_log)\n",
    "    y_test_pred_exp = np.exp(y_test_pred_log)\n",
    "\n",
    "    # Evaluate\n",
    "    mse_train = mean_squared_error(y_train_exp, y_train_pred_exp)\n",
    "    mse_test = mean_squared_error(y_test_exp, y_test_pred_exp)\n",
    "    ratio = mse_test / mse_train\n",
    "\n",
    "    print(\"Best hyperparameters:\", search.best_params_)\n",
    "    print(f\"Train MSE: {mse_train:.6f}\")\n",
    "    print(f\"Test MSE: {mse_test:.6f}\")\n",
    "    print(f\"Test/Train MSE Ratio: {ratio:.2f}\")"
   ]
  },
  {
   "cell_type": "markdown",
   "id": "347ad380-94b8-4036-9024-d39944f7ecf8",
   "metadata": {},
   "source": [
    "## df_base"
   ]
  },
  {
   "cell_type": "code",
   "execution_count": 3,
   "id": "3e9aeb24-be18-4e12-8d51-063faaa9a3ed",
   "metadata": {},
   "outputs": [],
   "source": [
    "import pandas as pd\n",
    "\n",
    "X_base_train = pd.read_pickle(\"X_base_train.pkl\")\n",
    "X_base_test = pd.read_pickle(\"X_base_test.pkl\")\n",
    "y_base_train = pd.read_pickle(\"y_base_train.pkl\")\n",
    "y_base_test = pd.read_pickle(\"y_base_test.pkl\")"
   ]
  },
  {
   "cell_type": "markdown",
   "id": "69b213bf-6504-4db3-bdb3-a5199294c22c",
   "metadata": {},
   "source": [
    "### Hyper Parameter Tuning"
   ]
  },
  {
   "cell_type": "code",
   "execution_count": 27,
   "id": "67368223-9b8d-4a00-86cf-62117ce22e88",
   "metadata": {},
   "outputs": [
    {
     "name": "stdout",
     "output_type": "stream",
     "text": [
      "Best max_depth: 29\n",
      "Best min_samples_split: 13\n",
      "Best min_samples_leaf: 3\n"
     ]
    }
   ],
   "source": [
    "best_base_depth = tune_max_depth(X_base_train, y_base_train)\n",
    "best_base_split = tune_min_samples_split(X_base_train, y_base_train, max_depth=best_base_depth)\n",
    "best_base_leaf = tune_min_samples_leaf(X_base_train, y_base_train, max_depth=best_base_depth, min_samples_split=best_base_split)"
   ]
  },
  {
   "cell_type": "markdown",
   "id": "3b0e2d5b-10a9-48fd-a81b-f0552101c86e",
   "metadata": {},
   "source": [
    "### Decision Tree"
   ]
  },
  {
   "cell_type": "code",
   "execution_count": 40,
   "id": "474a99f4-2c63-4a10-b70a-74d0a4218271",
   "metadata": {},
   "outputs": [
    {
     "name": "stdout",
     "output_type": "stream",
     "text": [
      "Train MSE: 956986723.985752\n",
      "Test MSE: 7257474587.897000\n",
      "Test/Train MSE ratio: 7.58\n"
     ]
    }
   ],
   "source": [
    "evaluate_fixed_decision_tree(X_base_train, X_base_test, y_base_train, y_base_test,\n",
    "                                 best_base_depth, best_base_split, best_base_leaf, random_state=42)"
   ]
  },
  {
   "cell_type": "markdown",
   "id": "ac14646e-dbf6-47e4-ac56-ea9bae710c79",
   "metadata": {},
   "source": [
    "### Randomnized Grad Boost"
   ]
  },
  {
   "cell_type": "code",
   "execution_count": 46,
   "id": "572cb12e-dcc5-45e1-a358-ac83d4ba64a6",
   "metadata": {},
   "outputs": [
    {
     "ename": "KeyboardInterrupt",
     "evalue": "",
     "output_type": "error",
     "traceback": [
      "\u001b[1;31m---------------------------------------------------------------------------\u001b[0m",
      "\u001b[1;31mKeyboardInterrupt\u001b[0m                         Traceback (most recent call last)",
      "Cell \u001b[1;32mIn[46], line 1\u001b[0m\n\u001b[1;32m----> 1\u001b[0m gradient_boosting_tuning(X_base_train, X_base_test, y_base_train, y_base_test, n_iter\u001b[38;5;241m=\u001b[39m\u001b[38;5;241m50\u001b[39m, cv\u001b[38;5;241m=\u001b[39m\u001b[38;5;241m5\u001b[39m, random_state\u001b[38;5;241m=\u001b[39m\u001b[38;5;241m42\u001b[39m)\n",
      "Cell \u001b[1;32mIn[42], line 29\u001b[0m, in \u001b[0;36mgradient_boosting_tuning\u001b[1;34m(X_train, X_test, y_train, y_test, n_iter, cv, random_state)\u001b[0m\n\u001b[0;32m     18\u001b[0m search \u001b[38;5;241m=\u001b[39m RandomizedSearchCV(\n\u001b[0;32m     19\u001b[0m     GradientBoostingRegressor(random_state\u001b[38;5;241m=\u001b[39mrandom_state),\n\u001b[0;32m     20\u001b[0m     param_distributions\u001b[38;5;241m=\u001b[39mparam_dist,\n\u001b[1;32m   (...)\u001b[0m\n\u001b[0;32m     25\u001b[0m     n_jobs\u001b[38;5;241m=\u001b[39m\u001b[38;5;241m-\u001b[39m\u001b[38;5;241m1\u001b[39m\n\u001b[0;32m     26\u001b[0m )\n\u001b[0;32m     28\u001b[0m \u001b[38;5;66;03m# Fit the model\u001b[39;00m\n\u001b[1;32m---> 29\u001b[0m search\u001b[38;5;241m.\u001b[39mfit(X_train, y_train)\n\u001b[0;32m     31\u001b[0m \u001b[38;5;66;03m# Best model\u001b[39;00m\n\u001b[0;32m     32\u001b[0m best_model \u001b[38;5;241m=\u001b[39m search\u001b[38;5;241m.\u001b[39mbest_estimator_\n",
      "File \u001b[1;32m~\\anaconda3\\Lib\\site-packages\\sklearn\\base.py:1473\u001b[0m, in \u001b[0;36m_fit_context.<locals>.decorator.<locals>.wrapper\u001b[1;34m(estimator, *args, **kwargs)\u001b[0m\n\u001b[0;32m   1466\u001b[0m     estimator\u001b[38;5;241m.\u001b[39m_validate_params()\n\u001b[0;32m   1468\u001b[0m \u001b[38;5;28;01mwith\u001b[39;00m config_context(\n\u001b[0;32m   1469\u001b[0m     skip_parameter_validation\u001b[38;5;241m=\u001b[39m(\n\u001b[0;32m   1470\u001b[0m         prefer_skip_nested_validation \u001b[38;5;129;01mor\u001b[39;00m global_skip_validation\n\u001b[0;32m   1471\u001b[0m     )\n\u001b[0;32m   1472\u001b[0m ):\n\u001b[1;32m-> 1473\u001b[0m     \u001b[38;5;28;01mreturn\u001b[39;00m fit_method(estimator, \u001b[38;5;241m*\u001b[39margs, \u001b[38;5;241m*\u001b[39m\u001b[38;5;241m*\u001b[39mkwargs)\n",
      "File \u001b[1;32m~\\anaconda3\\Lib\\site-packages\\sklearn\\model_selection\\_search.py:1018\u001b[0m, in \u001b[0;36mBaseSearchCV.fit\u001b[1;34m(self, X, y, **params)\u001b[0m\n\u001b[0;32m   1012\u001b[0m     results \u001b[38;5;241m=\u001b[39m \u001b[38;5;28mself\u001b[39m\u001b[38;5;241m.\u001b[39m_format_results(\n\u001b[0;32m   1013\u001b[0m         all_candidate_params, n_splits, all_out, all_more_results\n\u001b[0;32m   1014\u001b[0m     )\n\u001b[0;32m   1016\u001b[0m     \u001b[38;5;28;01mreturn\u001b[39;00m results\n\u001b[1;32m-> 1018\u001b[0m \u001b[38;5;28mself\u001b[39m\u001b[38;5;241m.\u001b[39m_run_search(evaluate_candidates)\n\u001b[0;32m   1020\u001b[0m \u001b[38;5;66;03m# multimetric is determined here because in the case of a callable\u001b[39;00m\n\u001b[0;32m   1021\u001b[0m \u001b[38;5;66;03m# self.scoring the return type is only known after calling\u001b[39;00m\n\u001b[0;32m   1022\u001b[0m first_test_score \u001b[38;5;241m=\u001b[39m all_out[\u001b[38;5;241m0\u001b[39m][\u001b[38;5;124m\"\u001b[39m\u001b[38;5;124mtest_scores\u001b[39m\u001b[38;5;124m\"\u001b[39m]\n",
      "File \u001b[1;32m~\\anaconda3\\Lib\\site-packages\\sklearn\\model_selection\\_search.py:1959\u001b[0m, in \u001b[0;36mRandomizedSearchCV._run_search\u001b[1;34m(self, evaluate_candidates)\u001b[0m\n\u001b[0;32m   1957\u001b[0m \u001b[38;5;28;01mdef\u001b[39;00m \u001b[38;5;21m_run_search\u001b[39m(\u001b[38;5;28mself\u001b[39m, evaluate_candidates):\n\u001b[0;32m   1958\u001b[0m \u001b[38;5;250m    \u001b[39m\u001b[38;5;124;03m\"\"\"Search n_iter candidates from param_distributions\"\"\"\u001b[39;00m\n\u001b[1;32m-> 1959\u001b[0m     evaluate_candidates(\n\u001b[0;32m   1960\u001b[0m         ParameterSampler(\n\u001b[0;32m   1961\u001b[0m             \u001b[38;5;28mself\u001b[39m\u001b[38;5;241m.\u001b[39mparam_distributions, \u001b[38;5;28mself\u001b[39m\u001b[38;5;241m.\u001b[39mn_iter, random_state\u001b[38;5;241m=\u001b[39m\u001b[38;5;28mself\u001b[39m\u001b[38;5;241m.\u001b[39mrandom_state\n\u001b[0;32m   1962\u001b[0m         )\n\u001b[0;32m   1963\u001b[0m     )\n",
      "File \u001b[1;32m~\\anaconda3\\Lib\\site-packages\\sklearn\\model_selection\\_search.py:964\u001b[0m, in \u001b[0;36mBaseSearchCV.fit.<locals>.evaluate_candidates\u001b[1;34m(candidate_params, cv, more_results)\u001b[0m\n\u001b[0;32m    956\u001b[0m \u001b[38;5;28;01mif\u001b[39;00m \u001b[38;5;28mself\u001b[39m\u001b[38;5;241m.\u001b[39mverbose \u001b[38;5;241m>\u001b[39m \u001b[38;5;241m0\u001b[39m:\n\u001b[0;32m    957\u001b[0m     \u001b[38;5;28mprint\u001b[39m(\n\u001b[0;32m    958\u001b[0m         \u001b[38;5;124m\"\u001b[39m\u001b[38;5;124mFitting \u001b[39m\u001b[38;5;132;01m{0}\u001b[39;00m\u001b[38;5;124m folds for each of \u001b[39m\u001b[38;5;132;01m{1}\u001b[39;00m\u001b[38;5;124m candidates,\u001b[39m\u001b[38;5;124m\"\u001b[39m\n\u001b[0;32m    959\u001b[0m         \u001b[38;5;124m\"\u001b[39m\u001b[38;5;124m totalling \u001b[39m\u001b[38;5;132;01m{2}\u001b[39;00m\u001b[38;5;124m fits\u001b[39m\u001b[38;5;124m\"\u001b[39m\u001b[38;5;241m.\u001b[39mformat(\n\u001b[0;32m    960\u001b[0m             n_splits, n_candidates, n_candidates \u001b[38;5;241m*\u001b[39m n_splits\n\u001b[0;32m    961\u001b[0m         )\n\u001b[0;32m    962\u001b[0m     )\n\u001b[1;32m--> 964\u001b[0m out \u001b[38;5;241m=\u001b[39m parallel(\n\u001b[0;32m    965\u001b[0m     delayed(_fit_and_score)(\n\u001b[0;32m    966\u001b[0m         clone(base_estimator),\n\u001b[0;32m    967\u001b[0m         X,\n\u001b[0;32m    968\u001b[0m         y,\n\u001b[0;32m    969\u001b[0m         train\u001b[38;5;241m=\u001b[39mtrain,\n\u001b[0;32m    970\u001b[0m         test\u001b[38;5;241m=\u001b[39mtest,\n\u001b[0;32m    971\u001b[0m         parameters\u001b[38;5;241m=\u001b[39mparameters,\n\u001b[0;32m    972\u001b[0m         split_progress\u001b[38;5;241m=\u001b[39m(split_idx, n_splits),\n\u001b[0;32m    973\u001b[0m         candidate_progress\u001b[38;5;241m=\u001b[39m(cand_idx, n_candidates),\n\u001b[0;32m    974\u001b[0m         \u001b[38;5;241m*\u001b[39m\u001b[38;5;241m*\u001b[39mfit_and_score_kwargs,\n\u001b[0;32m    975\u001b[0m     )\n\u001b[0;32m    976\u001b[0m     \u001b[38;5;28;01mfor\u001b[39;00m (cand_idx, parameters), (split_idx, (train, test)) \u001b[38;5;129;01min\u001b[39;00m product(\n\u001b[0;32m    977\u001b[0m         \u001b[38;5;28menumerate\u001b[39m(candidate_params),\n\u001b[0;32m    978\u001b[0m         \u001b[38;5;28menumerate\u001b[39m(cv\u001b[38;5;241m.\u001b[39msplit(X, y, \u001b[38;5;241m*\u001b[39m\u001b[38;5;241m*\u001b[39mrouted_params\u001b[38;5;241m.\u001b[39msplitter\u001b[38;5;241m.\u001b[39msplit)),\n\u001b[0;32m    979\u001b[0m     )\n\u001b[0;32m    980\u001b[0m )\n\u001b[0;32m    982\u001b[0m \u001b[38;5;28;01mif\u001b[39;00m \u001b[38;5;28mlen\u001b[39m(out) \u001b[38;5;241m<\u001b[39m \u001b[38;5;241m1\u001b[39m:\n\u001b[0;32m    983\u001b[0m     \u001b[38;5;28;01mraise\u001b[39;00m \u001b[38;5;167;01mValueError\u001b[39;00m(\n\u001b[0;32m    984\u001b[0m         \u001b[38;5;124m\"\u001b[39m\u001b[38;5;124mNo fits were performed. \u001b[39m\u001b[38;5;124m\"\u001b[39m\n\u001b[0;32m    985\u001b[0m         \u001b[38;5;124m\"\u001b[39m\u001b[38;5;124mWas the CV iterator empty? \u001b[39m\u001b[38;5;124m\"\u001b[39m\n\u001b[0;32m    986\u001b[0m         \u001b[38;5;124m\"\u001b[39m\u001b[38;5;124mWere there no candidates?\u001b[39m\u001b[38;5;124m\"\u001b[39m\n\u001b[0;32m    987\u001b[0m     )\n",
      "File \u001b[1;32m~\\anaconda3\\Lib\\site-packages\\sklearn\\utils\\parallel.py:74\u001b[0m, in \u001b[0;36mParallel.__call__\u001b[1;34m(self, iterable)\u001b[0m\n\u001b[0;32m     69\u001b[0m config \u001b[38;5;241m=\u001b[39m get_config()\n\u001b[0;32m     70\u001b[0m iterable_with_config \u001b[38;5;241m=\u001b[39m (\n\u001b[0;32m     71\u001b[0m     (_with_config(delayed_func, config), args, kwargs)\n\u001b[0;32m     72\u001b[0m     \u001b[38;5;28;01mfor\u001b[39;00m delayed_func, args, kwargs \u001b[38;5;129;01min\u001b[39;00m iterable\n\u001b[0;32m     73\u001b[0m )\n\u001b[1;32m---> 74\u001b[0m \u001b[38;5;28;01mreturn\u001b[39;00m \u001b[38;5;28msuper\u001b[39m()\u001b[38;5;241m.\u001b[39m\u001b[38;5;21m__call__\u001b[39m(iterable_with_config)\n",
      "File \u001b[1;32m~\\anaconda3\\Lib\\site-packages\\joblib\\parallel.py:2007\u001b[0m, in \u001b[0;36mParallel.__call__\u001b[1;34m(self, iterable)\u001b[0m\n\u001b[0;32m   2001\u001b[0m \u001b[38;5;66;03m# The first item from the output is blank, but it makes the interpreter\u001b[39;00m\n\u001b[0;32m   2002\u001b[0m \u001b[38;5;66;03m# progress until it enters the Try/Except block of the generator and\u001b[39;00m\n\u001b[0;32m   2003\u001b[0m \u001b[38;5;66;03m# reaches the first `yield` statement. This starts the asynchronous\u001b[39;00m\n\u001b[0;32m   2004\u001b[0m \u001b[38;5;66;03m# dispatch of the tasks to the workers.\u001b[39;00m\n\u001b[0;32m   2005\u001b[0m \u001b[38;5;28mnext\u001b[39m(output)\n\u001b[1;32m-> 2007\u001b[0m \u001b[38;5;28;01mreturn\u001b[39;00m output \u001b[38;5;28;01mif\u001b[39;00m \u001b[38;5;28mself\u001b[39m\u001b[38;5;241m.\u001b[39mreturn_generator \u001b[38;5;28;01melse\u001b[39;00m \u001b[38;5;28mlist\u001b[39m(output)\n",
      "File \u001b[1;32m~\\anaconda3\\Lib\\site-packages\\joblib\\parallel.py:1650\u001b[0m, in \u001b[0;36mParallel._get_outputs\u001b[1;34m(self, iterator, pre_dispatch)\u001b[0m\n\u001b[0;32m   1647\u001b[0m     \u001b[38;5;28;01myield\u001b[39;00m\n\u001b[0;32m   1649\u001b[0m     \u001b[38;5;28;01mwith\u001b[39;00m \u001b[38;5;28mself\u001b[39m\u001b[38;5;241m.\u001b[39m_backend\u001b[38;5;241m.\u001b[39mretrieval_context():\n\u001b[1;32m-> 1650\u001b[0m         \u001b[38;5;28;01myield from\u001b[39;00m \u001b[38;5;28mself\u001b[39m\u001b[38;5;241m.\u001b[39m_retrieve()\n\u001b[0;32m   1652\u001b[0m \u001b[38;5;28;01mexcept\u001b[39;00m \u001b[38;5;167;01mGeneratorExit\u001b[39;00m:\n\u001b[0;32m   1653\u001b[0m     \u001b[38;5;66;03m# The generator has been garbage collected before being fully\u001b[39;00m\n\u001b[0;32m   1654\u001b[0m     \u001b[38;5;66;03m# consumed. This aborts the remaining tasks if possible and warn\u001b[39;00m\n\u001b[0;32m   1655\u001b[0m     \u001b[38;5;66;03m# the user if necessary.\u001b[39;00m\n\u001b[0;32m   1656\u001b[0m     \u001b[38;5;28mself\u001b[39m\u001b[38;5;241m.\u001b[39m_exception \u001b[38;5;241m=\u001b[39m \u001b[38;5;28;01mTrue\u001b[39;00m\n",
      "File \u001b[1;32m~\\anaconda3\\Lib\\site-packages\\joblib\\parallel.py:1762\u001b[0m, in \u001b[0;36mParallel._retrieve\u001b[1;34m(self)\u001b[0m\n\u001b[0;32m   1757\u001b[0m \u001b[38;5;66;03m# If the next job is not ready for retrieval yet, we just wait for\u001b[39;00m\n\u001b[0;32m   1758\u001b[0m \u001b[38;5;66;03m# async callbacks to progress.\u001b[39;00m\n\u001b[0;32m   1759\u001b[0m \u001b[38;5;28;01mif\u001b[39;00m ((\u001b[38;5;28mlen\u001b[39m(\u001b[38;5;28mself\u001b[39m\u001b[38;5;241m.\u001b[39m_jobs) \u001b[38;5;241m==\u001b[39m \u001b[38;5;241m0\u001b[39m) \u001b[38;5;129;01mor\u001b[39;00m\n\u001b[0;32m   1760\u001b[0m     (\u001b[38;5;28mself\u001b[39m\u001b[38;5;241m.\u001b[39m_jobs[\u001b[38;5;241m0\u001b[39m]\u001b[38;5;241m.\u001b[39mget_status(\n\u001b[0;32m   1761\u001b[0m         timeout\u001b[38;5;241m=\u001b[39m\u001b[38;5;28mself\u001b[39m\u001b[38;5;241m.\u001b[39mtimeout) \u001b[38;5;241m==\u001b[39m TASK_PENDING)):\n\u001b[1;32m-> 1762\u001b[0m     time\u001b[38;5;241m.\u001b[39msleep(\u001b[38;5;241m0.01\u001b[39m)\n\u001b[0;32m   1763\u001b[0m     \u001b[38;5;28;01mcontinue\u001b[39;00m\n\u001b[0;32m   1765\u001b[0m \u001b[38;5;66;03m# We need to be careful: the job list can be filling up as\u001b[39;00m\n\u001b[0;32m   1766\u001b[0m \u001b[38;5;66;03m# we empty it and Python list are not thread-safe by\u001b[39;00m\n\u001b[0;32m   1767\u001b[0m \u001b[38;5;66;03m# default hence the use of the lock\u001b[39;00m\n",
      "\u001b[1;31mKeyboardInterrupt\u001b[0m: "
     ]
    }
   ],
   "source": [
    "gradient_boosting_tuning(X_base_train, X_base_test, y_base_train, y_base_test, n_iter=50, cv=5, random_state=42)"
   ]
  },
  {
   "cell_type": "markdown",
   "id": "e1708e9b-0eae-4f6c-a321-bd2994cc9ad1",
   "metadata": {},
   "source": [
    "## df_post_covid"
   ]
  },
  {
   "cell_type": "code",
   "execution_count": 4,
   "id": "8adbc533-4006-48a7-bda6-c2e6a1ba3aec",
   "metadata": {},
   "outputs": [],
   "source": [
    "import pandas as pd\n",
    "\n",
    "X_post_train = pd.read_pickle(\"X_post_train.pkl\")\n",
    "X_post_test = pd.read_pickle(\"X_post_test.pkl\")\n",
    "y_post_train = pd.read_pickle(\"y_post_train.pkl\")\n",
    "y_post_test = pd.read_pickle(\"y_post_test.pkl\")"
   ]
  },
  {
   "cell_type": "markdown",
   "id": "f6ade894-ffc6-4678-bc22-b56aecbc8dbb",
   "metadata": {},
   "source": [
    "### Hyper Parameter Tuning"
   ]
  },
  {
   "cell_type": "code",
   "execution_count": 29,
   "id": "9b91e1bc-582d-458b-8277-c5a7557d71eb",
   "metadata": {},
   "outputs": [
    {
     "name": "stdout",
     "output_type": "stream",
     "text": [
      "Best max_depth: 25\n",
      "Best min_samples_split: 17\n",
      "Best min_samples_leaf: 3\n"
     ]
    }
   ],
   "source": [
    "best_post_depth = tune_max_depth(X_post_train, y_post_train)\n",
    "best_post_split = tune_min_samples_split(X_post_train, y_post_train, max_depth=best_post_depth)\n",
    "best_post_leaf = tune_min_samples_leaf(X_post_train, y_post_train, max_depth=best_post_depth, min_samples_split=best_post_split)"
   ]
  },
  {
   "cell_type": "markdown",
   "id": "7f9e4655-a677-4fcd-9882-e88afee6f6f1",
   "metadata": {},
   "source": [
    "### Decision Tree"
   ]
  },
  {
   "cell_type": "code",
   "execution_count": 39,
   "id": "302dcf05-ec55-4553-afb0-6092b25ba9e0",
   "metadata": {},
   "outputs": [
    {
     "name": "stdout",
     "output_type": "stream",
     "text": [
      "Train MSE: 1437356662.178113\n",
      "Test MSE: 5354710257.969723\n",
      "Test/Train MSE ratio: 3.73\n"
     ]
    }
   ],
   "source": [
    "evaluate_fixed_decision_tree(X_post_train, X_post_test, y_post_train, y_post_test,\n",
    "                                 best_post_depth, best_post_split, best_post_leaf, random_state=42)"
   ]
  },
  {
   "cell_type": "markdown",
   "id": "a94298be-e260-4f51-9a8a-7242147b8909",
   "metadata": {},
   "source": [
    "### Randomnized Grad Boost"
   ]
  },
  {
   "cell_type": "code",
   "execution_count": null,
   "id": "92500810-3bbb-490e-9159-73f1b3b2ca7a",
   "metadata": {},
   "outputs": [],
   "source": [
    "gradient_boosting_tuning(X_post_train, X_post_test, y_post_train, y_post_test, n_iter=50, cv=5, random_state=42)"
   ]
  }
 ],
 "metadata": {
  "kernelspec": {
   "display_name": "Python 3 (ipykernel)",
   "language": "python",
   "name": "python3"
  },
  "language_info": {
   "codemirror_mode": {
    "name": "ipython",
    "version": 3
   },
   "file_extension": ".py",
   "mimetype": "text/x-python",
   "name": "python",
   "nbconvert_exporter": "python",
   "pygments_lexer": "ipython3",
   "version": "3.12.3"
  }
 },
 "nbformat": 4,
 "nbformat_minor": 5
}
