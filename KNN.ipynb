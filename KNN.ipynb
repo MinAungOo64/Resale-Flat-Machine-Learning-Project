{
 "cells": [
  {
   "cell_type": "markdown",
   "id": "8a8db191-1385-4de7-aa5f-66eecc99a245",
   "metadata": {},
   "source": [
    "# KNN"
   ]
  },
  {
   "cell_type": "markdown",
   "id": "92363453-a948-4672-99b8-16f65d080c12",
   "metadata": {},
   "source": [
    "### Evaluation Function"
   ]
  },
  {
   "cell_type": "code",
   "execution_count": 1,
   "id": "18e4e9d8-bb09-47d2-a0ab-98daa7b28616",
   "metadata": {},
   "outputs": [],
   "source": [
    "from sklearn.metrics import mean_absolute_error, mean_squared_error, r2_score\n",
    "import numpy as np\n",
    "import pandas as pd\n",
    "\n",
    "def evaluate_model(y_true, y_pred, X_test):\n",
    "    n = X_test.shape[0]  # number of samples\n",
    "    p = X_test.shape[1]  # number of predictors\n",
    "\n",
    "    # Since we logged the resale prices during data processing, we exponetiate it back to view the metrics in dollars and not log units\n",
    "    y_true = np.exp(y_true)\n",
    "    y_pred = np.exp(y_pred)\n",
    "\n",
    "    mae = mean_absolute_error(y_true, y_pred)\n",
    "    mse = mean_squared_error(y_true, y_pred)\n",
    "    rmse = np.sqrt(mse)\n",
    "    r2 = r2_score(y_true, y_pred)\n",
    "    adj_r2 = 1 - ((1 - r2) * (n - 1) / (n - p - 1))\n",
    "\n",
    "    metrics = pd.Series({\n",
    "        'MAE': mae,\n",
    "        'MSE': mse,\n",
    "        'RMSE': rmse,\n",
    "        'R^2': r2,\n",
    "        'Adjusted R²': adj_r2\n",
    "    })\n",
    "\n",
    "    return metrics.to_frame(name='LinearRegression')"
   ]
  },
  {
   "cell_type": "markdown",
   "id": "79459e56-8e31-469f-8e47-c9192f9481f5",
   "metadata": {},
   "source": [
    "### KNN Function"
   ]
  },
  {
   "cell_type": "code",
   "execution_count": 17,
   "id": "a4f76097-5ee0-45ac-8379-320984b839c2",
   "metadata": {},
   "outputs": [],
   "source": [
    "from sklearn.neighbors import KNeighborsRegressor\n",
    "from sklearn.model_selection import GridSearchCV\n",
    "from sklearn.preprocessing import StandardScaler\n",
    "from sklearn.pipeline import Pipeline\n",
    "import numpy as np\n",
    "import pandas as pd\n",
    "\n",
    "def knn_regression_tuning(X_train, X_test, y_train, y_test, k_values=None):\n",
    "    if k_values is None:\n",
    "        k_values = [3, 5, 7, 9, 11]\n",
    "\n",
    "    # Create pipeline: scaling + KNN regressor\n",
    "    pipeline = Pipeline([\n",
    "        ('scaler', StandardScaler()),\n",
    "        ('knn', KNeighborsRegressor())\n",
    "    ])\n",
    "\n",
    "    # Parameter grid for tuning n_neighbors, weights and p (distance metric)\n",
    "    param_grid = {\n",
    "        'knn__n_neighbors': k_values,\n",
    "        'knn__weights': ['uniform', 'distance']\n",
    "    }\n",
    "\n",
    "    # GridSearchCV with 5-fold CV and neg MSE scoring\n",
    "    grid_search = GridSearchCV(pipeline, param_grid, cv=5, scoring='neg_mean_squared_error', n_jobs=-1)\n",
    "\n",
    "    # Fit to training data\n",
    "    grid_search.fit(X_train, y_train)\n",
    "\n",
    "    # Best model from grid search\n",
    "    best_model = grid_search.best_estimator_\n",
    "\n",
    "    # Predict on test data\n",
    "    y_pred = best_model.predict(X_test)\n",
    "\n",
    "    # Evaluate performance (assuming evaluate_model is defined)\n",
    "    metrics = evaluate_model(y_test, y_pred, X_test)\n",
    "\n",
    "    # Print best params and evaluation results\n",
    "    print(\"Best hyperparameters:\", grid_search.best_params_)\n",
    "    print(metrics)"
   ]
  },
  {
   "cell_type": "markdown",
   "id": "be38485b-c2fb-4d29-9127-e207b8cbb436",
   "metadata": {},
   "source": [
    "## df_base"
   ]
  },
  {
   "cell_type": "code",
   "execution_count": 8,
   "id": "2d39cb7d-f71d-4e74-bbde-a062b0fb32b9",
   "metadata": {},
   "outputs": [],
   "source": [
    "import pandas as pd\n",
    "\n",
    "X_base_train = pd.read_pickle(\"X_base_train.pkl\")\n",
    "X_base_test = pd.read_pickle(\"X_base_test.pkl\")\n",
    "y_base_train = pd.read_pickle(\"y_base_train.pkl\")\n",
    "y_base_test = pd.read_pickle(\"y_base_test.pkl\")"
   ]
  },
  {
   "cell_type": "markdown",
   "id": "6bf8357a-aa19-4c01-b179-0ce3fdafdce1",
   "metadata": {},
   "source": [
    "### KNN"
   ]
  },
  {
   "cell_type": "code",
   "execution_count": 18,
   "id": "565a058b-f18b-4604-81ac-b0bb402b6ce8",
   "metadata": {},
   "outputs": [
    {
     "name": "stdout",
     "output_type": "stream",
     "text": [
      "Best hyperparameters: {'knn__n_neighbors': 5, 'knn__weights': 'distance'}\n",
      "             LinearRegression\n",
      "MAE              5.853455e+04\n",
      "MSE              6.183791e+09\n",
      "RMSE             7.863708e+04\n",
      "R^2              8.261335e-01\n",
      "Adjusted R²      8.259876e-01\n"
     ]
    }
   ],
   "source": [
    "knn_regression_tuning(X_base_train, X_base_test, y_base_train, y_base_test, k_values=None)"
   ]
  },
  {
   "cell_type": "markdown",
   "id": "f887ca62-119a-46e2-8d77-418cc917bd5d",
   "metadata": {},
   "source": [
    "## df_post_covid"
   ]
  },
  {
   "cell_type": "code",
   "execution_count": 20,
   "id": "47839d4b-566d-48bf-8b2b-90656d574eac",
   "metadata": {},
   "outputs": [],
   "source": [
    "X_post_train = pd.read_pickle(\"X_post_train.pkl\")\n",
    "X_post_test = pd.read_pickle(\"X_post_test.pkl\")\n",
    "y_post_train = pd.read_pickle(\"y_post_train.pkl\")\n",
    "y_post_test = pd.read_pickle(\"y_post_test.pkl\")"
   ]
  },
  {
   "cell_type": "markdown",
   "id": "c7000dde-6df4-4626-87a9-dbeb024725a2",
   "metadata": {},
   "source": [
    "### KNN"
   ]
  },
  {
   "cell_type": "code",
   "execution_count": 21,
   "id": "5d02a116-bef8-45a8-823e-15b428cd3af8",
   "metadata": {},
   "outputs": [
    {
     "name": "stdout",
     "output_type": "stream",
     "text": [
      "Best hyperparameters: {'knn__n_neighbors': 7, 'knn__weights': 'distance'}\n",
      "             LinearRegression\n",
      "MAE              4.552422e+04\n",
      "MSE              3.972737e+09\n",
      "RMSE             6.302965e+04\n",
      "R^2              8.974342e-01\n",
      "Adjusted R²      8.972500e-01\n"
     ]
    }
   ],
   "source": [
    "knn_regression_tuning(X_post_train, X_post_test, y_post_train, y_post_test, k_values=None)"
   ]
  }
 ],
 "metadata": {
  "kernelspec": {
   "display_name": "Python 3 (ipykernel)",
   "language": "python",
   "name": "python3"
  },
  "language_info": {
   "codemirror_mode": {
    "name": "ipython",
    "version": 3
   },
   "file_extension": ".py",
   "mimetype": "text/x-python",
   "name": "python",
   "nbconvert_exporter": "python",
   "pygments_lexer": "ipython3",
   "version": "3.12.3"
  }
 },
 "nbformat": 4,
 "nbformat_minor": 5
}
