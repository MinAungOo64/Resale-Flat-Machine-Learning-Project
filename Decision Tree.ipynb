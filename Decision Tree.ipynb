{
 "cells": [
  {
   "cell_type": "markdown",
   "id": "4bbce83e-592c-4504-b7ee-78171f707d7b",
   "metadata": {},
   "source": [
    "# Decision Tree"
   ]
  },
  {
   "cell_type": "markdown",
   "id": "9eeeda7e-64f1-4b98-8e76-d9388c98c0cd",
   "metadata": {},
   "source": [
    "## Max Depth Tuning Function"
   ]
  },
  {
   "cell_type": "code",
   "execution_count": 12,
   "id": "375e1b1b-328a-4122-aa06-2df46c476f23",
   "metadata": {},
   "outputs": [],
   "source": [
    "from sklearn.model_selection import GridSearchCV\n",
    "from sklearn.tree import DecisionTreeRegressor\n",
    "\n",
    "def tune_max_depth(X_train, y_train, cv=5):\n",
    "    param_grid = {'max_depth': list(range(3, 51))}\n",
    "    grid = GridSearchCV(DecisionTreeRegressor(random_state=42), param_grid, cv=cv, scoring='neg_mean_squared_error', n_jobs=-1)\n",
    "    grid.fit(X_train, y_train)\n",
    "    print(\"Best max_depth:\", grid.best_params_['max_depth'])\n",
    "    return grid.best_params_['max_depth']"
   ]
  },
  {
   "cell_type": "markdown",
   "id": "7cca9c28-e930-4017-b1c3-a413071077d8",
   "metadata": {},
   "source": [
    "## Min Samples Split Tuning Function"
   ]
  },
  {
   "cell_type": "code",
   "execution_count": 14,
   "id": "cdfa54f0-5883-4f58-9a6a-b610ff9ded69",
   "metadata": {},
   "outputs": [],
   "source": [
    "def tune_min_samples_split(X_train, y_train, max_depth, cv=5):\n",
    "    param_grid = {'min_samples_split': list(range(2, 21))}\n",
    "    grid = GridSearchCV(\n",
    "        DecisionTreeRegressor(max_depth=max_depth, random_state=42),\n",
    "        param_grid,\n",
    "        cv=cv,\n",
    "        scoring='neg_mean_squared_error',\n",
    "        n_jobs=-1\n",
    "    )\n",
    "    grid.fit(X_train, y_train)\n",
    "    print(\"Best min_samples_split:\", grid.best_params_['min_samples_split'])\n",
    "    return grid.best_params_['min_samples_split']"
   ]
  },
  {
   "cell_type": "markdown",
   "id": "3110815a-ac5a-4741-80d7-d12d803703ea",
   "metadata": {},
   "source": [
    "## Min Samples Leaf Tuning Function"
   ]
  },
  {
   "cell_type": "code",
   "execution_count": 15,
   "id": "117683a9-9a37-433d-b382-2e07ff1695fb",
   "metadata": {},
   "outputs": [],
   "source": [
    "def tune_min_samples_leaf(X_train, y_train, max_depth, min_samples_split, cv=5):\n",
    "    param_grid = {'min_samples_leaf': list(range(1, 11))}\n",
    "    grid = GridSearchCV(\n",
    "        DecisionTreeRegressor(max_depth=max_depth, min_samples_split=min_samples_split, random_state=42),\n",
    "        param_grid,\n",
    "        cv=cv,\n",
    "        scoring='neg_mean_squared_error',\n",
    "        n_jobs=-1\n",
    "    )\n",
    "    grid.fit(X_train, y_train)\n",
    "    print(\"Best min_samples_leaf:\", grid.best_params_['min_samples_leaf'])\n",
    "    return grid.best_params_['min_samples_leaf']"
   ]
  },
  {
   "cell_type": "markdown",
   "id": "d51e9705-5f5e-44cb-8040-255175f37198",
   "metadata": {},
   "source": [
    "## Decision Tree Function"
   ]
  },
  {
   "cell_type": "code",
   "execution_count": 38,
   "id": "18b47f6f-1ee5-4b12-81de-db32c3c1cc4c",
   "metadata": {},
   "outputs": [],
   "source": [
    "from sklearn.tree import DecisionTreeRegressor\n",
    "from sklearn.metrics import mean_squared_error\n",
    "import numpy as np\n",
    "\n",
    "def evaluate_fixed_decision_tree(X_train, X_test, y_train, y_test,\n",
    "                                 max_depth, min_samples_split, min_samples_leaf, random_state=42):\n",
    "    \n",
    "    # Train the model with fixed hyperparameters\n",
    "    model = DecisionTreeRegressor(\n",
    "        max_depth=max_depth,\n",
    "        min_samples_split=min_samples_split,\n",
    "        min_samples_leaf=min_samples_leaf,\n",
    "        random_state=random_state\n",
    "    )\n",
    "    model.fit(X_train, y_train)\n",
    "\n",
    "    # Predict (in log scale)\n",
    "    y_train_pred_log = model.predict(X_train)\n",
    "    y_test_pred_log = model.predict(X_test)\n",
    "\n",
    "    # Exponentiate to get back to original scale\n",
    "    y_train_true = np.exp(y_train)\n",
    "    y_test_true = np.exp(y_test)\n",
    "    y_train_pred = np.exp(y_train_pred_log)\n",
    "    y_test_pred = np.exp(y_test_pred_log)\n",
    "    \n",
    "    # Compute MSEs and ratio\n",
    "    mse_train = mean_squared_error(y_train_true, y_train_pred)\n",
    "    mse_test = mean_squared_error(y_test_true, y_test_pred)\n",
    "    overfit_ratio = mse_test / mse_train\n",
    "\n",
    "    # Print results\n",
    "    print(f\"Train MSE: {mse_train:.6f}\")\n",
    "    print(f\"Test MSE: {mse_test:.6f}\")\n",
    "    print(f\"Test/Train MSE ratio: {overfit_ratio:.2f}\")"
   ]
  },
  {
   "cell_type": "markdown",
   "id": "df2abe19-e7c8-4f2b-92a4-c0befc4a9843",
   "metadata": {},
   "source": [
    "## Randomnized Gradient Boosting Function"
   ]
  },
  {
   "cell_type": "code",
   "execution_count": 50,
   "id": "11a35142-760d-45fa-b8f1-f65e69a22b0a",
   "metadata": {},
   "outputs": [],
   "source": [
    "from sklearn.ensemble import GradientBoostingRegressor\n",
    "from sklearn.model_selection import RandomizedSearchCV\n",
    "from scipy.stats import randint, uniform\n",
    "from sklearn.metrics import mean_squared_error\n",
    "import numpy as np\n",
    "\n",
    "def gradient_boosting_tuning(X_train, X_test, y_train, y_test, n_iter=50, cv=5, random_state=42):\n",
    "    # Define hyperparameter search space\n",
    "    param_dist = {\n",
    "        'n_estimators': randint(50, 300),\n",
    "        'learning_rate': uniform(0.01, 0.3),\n",
    "        'max_depth': randint(2, 10),\n",
    "        'min_samples_split': randint(2, 10),\n",
    "        'min_samples_leaf': randint(1, 10),\n",
    "    }\n",
    "\n",
    "    # Set up randomized search\n",
    "    search = RandomizedSearchCV(\n",
    "        GradientBoostingRegressor(random_state=random_state),\n",
    "        param_distributions=param_dist,\n",
    "        n_iter=n_iter,\n",
    "        cv=cv,\n",
    "        scoring='neg_mean_squared_error',\n",
    "        random_state=random_state,\n",
    "        n_jobs=-1\n",
    "    )\n",
    "\n",
    "    # Fit the model\n",
    "    search.fit(X_train, y_train)\n",
    "\n",
    "    # Best model\n",
    "    best_model = search.best_estimator_\n",
    "\n",
    "    # Predict\n",
    "    y_train_pred = best_model.predict(X_train)\n",
    "    y_test_pred = best_model.predict(X_test)\n",
    "\n",
    "    # Exponentiate predictions and true values to return to original scale\n",
    "    y_train_exp = np.exp(y_train)\n",
    "    y_test_exp = np.exp(y_test)\n",
    "    y_train_pred_exp = np.exp(y_train_pred)\n",
    "    y_test_pred_exp = np.exp(y_test_pred)\n",
    "\n",
    "    # Evaluate\n",
    "    mse_train = mean_squared_error(y_train_exp, y_train_pred_exp)\n",
    "    mse_test = mean_squared_error(y_test_exp, y_test_pred_exp)\n",
    "    ratio = mse_test / mse_train\n",
    "\n",
    "    print(\"Best hyperparameters:\", search.best_params_)\n",
    "    print(f\"Train MSE: {mse_train:.6f}\")\n",
    "    print(f\"Test MSE: {mse_test:.6f}\")\n",
    "    print(f\"Test/Train MSE Ratio: {ratio:.2f}\")"
   ]
  },
  {
   "cell_type": "markdown",
   "id": "347ad380-94b8-4036-9024-d39944f7ecf8",
   "metadata": {},
   "source": [
    "## df_base"
   ]
  },
  {
   "cell_type": "code",
   "execution_count": 3,
   "id": "3e9aeb24-be18-4e12-8d51-063faaa9a3ed",
   "metadata": {},
   "outputs": [],
   "source": [
    "import pandas as pd\n",
    "\n",
    "X_base_train = pd.read_pickle(\"X_base_train.pkl\")\n",
    "X_base_test = pd.read_pickle(\"X_base_test.pkl\")\n",
    "y_base_train = pd.read_pickle(\"y_base_train.pkl\")\n",
    "y_base_test = pd.read_pickle(\"y_base_test.pkl\")"
   ]
  },
  {
   "cell_type": "markdown",
   "id": "69b213bf-6504-4db3-bdb3-a5199294c22c",
   "metadata": {},
   "source": [
    "### Hyper Parameter Tuning"
   ]
  },
  {
   "cell_type": "code",
   "execution_count": 27,
   "id": "67368223-9b8d-4a00-86cf-62117ce22e88",
   "metadata": {},
   "outputs": [
    {
     "name": "stdout",
     "output_type": "stream",
     "text": [
      "Best max_depth: 29\n",
      "Best min_samples_split: 13\n",
      "Best min_samples_leaf: 3\n"
     ]
    }
   ],
   "source": [
    "best_base_depth = tune_max_depth(X_base_train, y_base_train)\n",
    "best_base_split = tune_min_samples_split(X_base_train, y_base_train, max_depth=best_base_depth)\n",
    "best_base_leaf = tune_min_samples_leaf(X_base_train, y_base_train, max_depth=best_base_depth, min_samples_split=best_base_split)"
   ]
  },
  {
   "cell_type": "markdown",
   "id": "3b0e2d5b-10a9-48fd-a81b-f0552101c86e",
   "metadata": {},
   "source": [
    "### Decision Tree"
   ]
  },
  {
   "cell_type": "code",
   "execution_count": 40,
   "id": "474a99f4-2c63-4a10-b70a-74d0a4218271",
   "metadata": {},
   "outputs": [
    {
     "name": "stdout",
     "output_type": "stream",
     "text": [
      "Train MSE: 956986723.985752\n",
      "Test MSE: 7257474587.897000\n",
      "Test/Train MSE ratio: 7.58\n"
     ]
    }
   ],
   "source": [
    "evaluate_fixed_decision_tree(X_base_train, X_base_test, y_base_train, y_base_test,\n",
    "                                 best_base_depth, best_base_split, best_base_leaf, random_state=42)"
   ]
  },
  {
   "cell_type": "markdown",
   "id": "ac14646e-dbf6-47e4-ac56-ea9bae710c79",
   "metadata": {},
   "source": [
    "### Randomnized Grad Boost"
   ]
  },
  {
   "cell_type": "code",
   "execution_count": 51,
   "id": "572cb12e-dcc5-45e1-a358-ac83d4ba64a6",
   "metadata": {},
   "outputs": [
    {
     "name": "stdout",
     "output_type": "stream",
     "text": [
      "Best hyperparameters: {'learning_rate': 0.1624596330222156, 'max_depth': 9, 'min_samples_leaf': 3, 'min_samples_split': 5, 'n_estimators': 236}\n",
      "Train MSE: 858998748.284177\n",
      "Test MSE: 5639625770.303349\n",
      "Test/Train MSE Ratio: 6.57\n"
     ]
    }
   ],
   "source": [
    "gradient_boosting_tuning(X_base_train, X_base_test, y_base_train, y_base_test, n_iter=50, cv=5, random_state=42)"
   ]
  },
  {
   "cell_type": "markdown",
   "id": "e1708e9b-0eae-4f6c-a321-bd2994cc9ad1",
   "metadata": {},
   "source": [
    "## df_post_covid"
   ]
  },
  {
   "cell_type": "code",
   "execution_count": 4,
   "id": "8adbc533-4006-48a7-bda6-c2e6a1ba3aec",
   "metadata": {},
   "outputs": [],
   "source": [
    "import pandas as pd\n",
    "\n",
    "X_post_train = pd.read_pickle(\"X_post_train.pkl\")\n",
    "X_post_test = pd.read_pickle(\"X_post_test.pkl\")\n",
    "y_post_train = pd.read_pickle(\"y_post_train.pkl\")\n",
    "y_post_test = pd.read_pickle(\"y_post_test.pkl\")"
   ]
  },
  {
   "cell_type": "markdown",
   "id": "f6ade894-ffc6-4678-bc22-b56aecbc8dbb",
   "metadata": {},
   "source": [
    "### Hyper Parameter Tuning"
   ]
  },
  {
   "cell_type": "code",
   "execution_count": 29,
   "id": "9b91e1bc-582d-458b-8277-c5a7557d71eb",
   "metadata": {},
   "outputs": [
    {
     "name": "stdout",
     "output_type": "stream",
     "text": [
      "Best max_depth: 25\n",
      "Best min_samples_split: 17\n",
      "Best min_samples_leaf: 3\n"
     ]
    }
   ],
   "source": [
    "best_post_depth = tune_max_depth(X_post_train, y_post_train)\n",
    "best_post_split = tune_min_samples_split(X_post_train, y_post_train, max_depth=best_post_depth)\n",
    "best_post_leaf = tune_min_samples_leaf(X_post_train, y_post_train, max_depth=best_post_depth, min_samples_split=best_post_split)"
   ]
  },
  {
   "cell_type": "markdown",
   "id": "7f9e4655-a677-4fcd-9882-e88afee6f6f1",
   "metadata": {},
   "source": [
    "### Decision Tree"
   ]
  },
  {
   "cell_type": "code",
   "execution_count": 39,
   "id": "302dcf05-ec55-4553-afb0-6092b25ba9e0",
   "metadata": {},
   "outputs": [
    {
     "name": "stdout",
     "output_type": "stream",
     "text": [
      "Train MSE: 1437356662.178113\n",
      "Test MSE: 5354710257.969723\n",
      "Test/Train MSE ratio: 3.73\n"
     ]
    }
   ],
   "source": [
    "evaluate_fixed_decision_tree(X_post_train, X_post_test, y_post_train, y_post_test,\n",
    "                                 best_post_depth, best_post_split, best_post_leaf, random_state=42)"
   ]
  },
  {
   "cell_type": "markdown",
   "id": "a94298be-e260-4f51-9a8a-7242147b8909",
   "metadata": {},
   "source": [
    "### Randomnized Grad Boost"
   ]
  },
  {
   "cell_type": "code",
   "execution_count": 52,
   "id": "92500810-3bbb-490e-9159-73f1b3b2ca7a",
   "metadata": {},
   "outputs": [
    {
     "name": "stdout",
     "output_type": "stream",
     "text": [
      "Best hyperparameters: {'learning_rate': 0.07370173320348283, 'max_depth': 9, 'min_samples_leaf': 5, 'min_samples_split': 2, 'n_estimators': 253}\n",
      "Train MSE: 1059707867.696193\n",
      "Test MSE: 3397103048.776862\n",
      "Test/Train MSE Ratio: 3.21\n"
     ]
    }
   ],
   "source": [
    "gradient_boosting_tuning(X_post_train, X_post_test, y_post_train, y_post_test, n_iter=50, cv=5, random_state=42)"
   ]
  }
 ],
 "metadata": {
  "kernelspec": {
   "display_name": "Python 3 (ipykernel)",
   "language": "python",
   "name": "python3"
  },
  "language_info": {
   "codemirror_mode": {
    "name": "ipython",
    "version": 3
   },
   "file_extension": ".py",
   "mimetype": "text/x-python",
   "name": "python",
   "nbconvert_exporter": "python",
   "pygments_lexer": "ipython3",
   "version": "3.12.3"
  }
 },
 "nbformat": 4,
 "nbformat_minor": 5
}
