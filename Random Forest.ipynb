{
 "cells": [
  {
   "cell_type": "markdown",
   "id": "1e19d35d-b432-43fd-bc91-872c23a4beb6",
   "metadata": {},
   "source": [
    "# Random Forest"
   ]
  },
  {
   "cell_type": "markdown",
   "id": "b0518bc4-593e-4767-8585-56aa4db389d2",
   "metadata": {},
   "source": [
    "## Random Forest Function with Randomnized Search CV"
   ]
  },
  {
   "cell_type": "code",
   "execution_count": 8,
   "id": "e15b4d74-8feb-4266-84ff-e2d9bf76a44d",
   "metadata": {},
   "outputs": [],
   "source": [
    "from sklearn.ensemble import RandomForestRegressor\n",
    "from sklearn.model_selection import RandomizedSearchCV\n",
    "from sklearn.metrics import mean_squared_error\n",
    "from scipy.stats import randint\n",
    "\n",
    "def random_forest_tuning(X_train, X_test, y_train, y_test, n_iter=50, cv=5, random_state=42):\n",
    "    # Define search space\n",
    "    param_dist = {\n",
    "        'n_estimators': randint(100, 500),\n",
    "        'max_depth': randint(5, 50),\n",
    "        'min_samples_split': randint(2, 20),\n",
    "        'min_samples_leaf': randint(1, 10),\n",
    "        'max_features': ['sqrt', 'log2']\n",
    "    }\n",
    "\n",
    "    # Randomized search\n",
    "    search = RandomizedSearchCV(\n",
    "        estimator=RandomForestRegressor(random_state=random_state),\n",
    "        param_distributions=param_dist,\n",
    "        n_iter=n_iter,\n",
    "        cv=cv,\n",
    "        scoring='neg_mean_squared_error',\n",
    "        random_state=random_state,\n",
    "        n_jobs=-1,\n",
    "        verbose=3\n",
    "    )\n",
    "\n",
    "    # Fit\n",
    "    search.fit(X_train, y_train)\n",
    "\n",
    "    # Best model\n",
    "    best_model = search.best_estimator_\n",
    "\n",
    "    # Predict\n",
    "    y_train_pred = best_model.predict(X_train)\n",
    "    y_test_pred = best_model.predict(X_test)\n",
    "\n",
    "    # Evaluate\n",
    "    mse_train = mean_squared_error(y_train, y_train_pred)\n",
    "    mse_test = mean_squared_error(y_test, y_test_pred)\n",
    "    ratio = mse_test / mse_train\n",
    "\n",
    "    print(\"Best hyperparameters:\", search.best_params_)\n",
    "    print(f\"Train MSE: {mse_train:.6f}\")\n",
    "    print(f\"Test MSE: {mse_test:.6f}\")\n",
    "    print(f\"Test/Train MSE Ratio: {ratio:.2f}\")"
   ]
  },
  {
   "cell_type": "markdown",
   "id": "460a356a-49a3-4e1a-b1ab-000660f349d4",
   "metadata": {},
   "source": [
    "## df_base"
   ]
  },
  {
   "cell_type": "code",
   "execution_count": 1,
   "id": "03fed416-8b27-4068-a695-5810285ab518",
   "metadata": {},
   "outputs": [],
   "source": [
    "import pandas as pd\n",
    "\n",
    "X_base_train = pd.read_pickle(\"X_base_train.pkl\")\n",
    "X_base_test = pd.read_pickle(\"X_base_test.pkl\")\n",
    "y_base_train = pd.read_pickle(\"y_base_train.pkl\")\n",
    "y_base_test = pd.read_pickle(\"y_base_test.pkl\")"
   ]
  },
  {
   "cell_type": "markdown",
   "id": "fedcf917-721d-42ad-ae25-35ec40d5c9c3",
   "metadata": {},
   "source": [
    "### Random Forest"
   ]
  },
  {
   "cell_type": "code",
   "execution_count": 9,
   "id": "9e613205-f00c-4a10-a702-31c074bc52b2",
   "metadata": {},
   "outputs": [
    {
     "name": "stdout",
     "output_type": "stream",
     "text": [
      "Fitting 5 folds for each of 50 candidates, totalling 250 fits\n",
      "Best hyperparameters: {'max_depth': 39, 'max_features': 'log2', 'min_samples_leaf': 1, 'min_samples_split': 5, 'n_estimators': 149}\n",
      "Train MSE: 0.002004\n",
      "Test MSE: 0.015404\n",
      "Test/Train MSE Ratio: 7.69\n"
     ]
    }
   ],
   "source": [
    "random_forest_tuning(X_base_train, X_base_test, y_base_train, y_base_test, n_iter=50, cv=5, random_state=42)"
   ]
  },
  {
   "cell_type": "markdown",
   "id": "f48786fd-5116-404c-a0b6-aaeb4221d91f",
   "metadata": {},
   "source": [
    "## df_post_covid"
   ]
  },
  {
   "cell_type": "code",
   "execution_count": 2,
   "id": "b474d7dc-7c7b-44b9-9693-9e38ae18bfa6",
   "metadata": {},
   "outputs": [],
   "source": [
    "import pandas as pd\n",
    "\n",
    "X_post_train = pd.read_pickle(\"X_post_train.pkl\")\n",
    "X_post_test = pd.read_pickle(\"X_post_test.pkl\")\n",
    "y_post_train = pd.read_pickle(\"y_post_train.pkl\")\n",
    "y_post_test = pd.read_pickle(\"y_post_test.pkl\")"
   ]
  },
  {
   "cell_type": "markdown",
   "id": "96c76913-b3ee-4397-8b89-41ae6646aa92",
   "metadata": {},
   "source": [
    "### Random Forest"
   ]
  },
  {
   "cell_type": "code",
   "execution_count": 10,
   "id": "8715a367-16d1-4a69-9092-9be3b9de04fe",
   "metadata": {},
   "outputs": [
    {
     "name": "stdout",
     "output_type": "stream",
     "text": [
      "Fitting 5 folds for each of 50 candidates, totalling 250 fits\n",
      "Best hyperparameters: {'max_depth': 39, 'max_features': 'log2', 'min_samples_leaf': 1, 'min_samples_split': 5, 'n_estimators': 149}\n",
      "Train MSE: 0.001759\n",
      "Test MSE: 0.008635\n",
      "Test/Train MSE Ratio: 4.91\n"
     ]
    }
   ],
   "source": [
    "random_forest_tuning(X_post_train, X_post_test, y_post_train, y_post_test, n_iter=50, cv=5, random_state=42)"
   ]
  }
 ],
 "metadata": {
  "kernelspec": {
   "display_name": "Python 3 (ipykernel)",
   "language": "python",
   "name": "python3"
  },
  "language_info": {
   "codemirror_mode": {
    "name": "ipython",
    "version": 3
   },
   "file_extension": ".py",
   "mimetype": "text/x-python",
   "name": "python",
   "nbconvert_exporter": "python",
   "pygments_lexer": "ipython3",
   "version": "3.12.3"
  }
 },
 "nbformat": 4,
 "nbformat_minor": 5
}
